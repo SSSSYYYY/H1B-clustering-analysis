{
 "cells": [
  {
   "cell_type": "code",
   "execution_count": null,
   "metadata": {
    "collapsed": true
   },
   "outputs": [],
   "source": [
    "import copy\n",
    "import numpy as np\n",
    "import pandas as pd\n",
    "import seaborn as sns\n",
    "import matplotlib.pylab as plt\n",
    "%matplotlib inline"
   ]
  },
  {
   "cell_type": "code",
   "execution_count": null,
   "metadata": {
    "collapsed": true
   },
   "outputs": [],
   "source": [
    "# Read in the data\n",
    "myiterator = pd.read_csv('H-1B_Disclosure_Data_FY17_update.csv', dtype=object, iterator=True, index_col=False, chunksize=100000)\n",
    "rawdata = pd.concat(myiterator, ignore_index=True)\n",
    "# get required columns and only H1B data\n",
    "rawdata = rawdata[rawdata['VISA_CLASS']=='H-1B']\n",
    "# print rawdata.shape\n",
    "# get yearly pay only\n",
    "rawdata = rawdata[rawdata['WAGE_UNIT_OF_PAY']=='Year'][['WAGE_RATE_OF_PAY_FROM','JOB_TITLE','SOC_CODE','SOC_NAME','NAICS_CODE','WORKSITE_STATE']]"
   ]
  },
  {
   "cell_type": "code",
   "execution_count": null,
   "metadata": {
    "collapsed": true
   },
   "outputs": [],
   "source": [
    "# to clean/mark wrong SOC_CODE and NAICS_CODE for deletion\n",
    "cleanSOC = rawdata['SOC_CODE'].str.replace('-','').map(lambda x: str(x)[0:6] if x.isdigit() else '000000')\n",
    "cleanNAICS = rawdata['NAICS_CODE'].map(lambda x: str(x).ljust(6,'0') if str(x) !='nan' else '000000')\n",
    "cleandata = rawdata.copy()\n",
    "cleandata['SOC_CODE'], cleandata['NAICS_CODE']  = cleanSOC, cleanNAICS"
   ]
  },
  {
   "cell_type": "code",
   "execution_count": null,
   "metadata": {},
   "outputs": [],
   "source": [
    "# Get the states corressponding data\n",
    "states = ['CA','NY','IL']#,'TX','NY','NJ','IL','MA','WA','GA','FL','PA']\n",
    "cleandataStates = cleandata.loc[cleandata['WORKSITE_STATE'].isin(states)]\n",
    "cleandataStates['WORKSITE_NUM'] = cleandataStates['WORKSITE_STATE'].map(lambda x: states.index(x)+1)\n",
    "cleandataStates.shape\n",
    "# for cluster data selection\n",
    "dataCluster = cleandataStates[['WAGE_RATE_OF_PAY_FROM','NAICS_CODE','SOC_CODE', 'WORKSITE_NUM']]\n",
    "dataCluster['WAGE_RATE_OF_PAY_FROM'] = dataCluster['WAGE_RATE_OF_PAY_FROM'].str.replace(',', '')\n",
    "# delete away the wrong input for NAICS_CODE and SOC_CODE\n",
    "dataCluster = dataCluster[(dataCluster['SOC_CODE']!='000000') & (dataCluster['NAICS_CODE']!='000000')]\n",
    "# sort the NAICS_CODE and SOC_CODE\n",
    "dataCluster = dataCluster.apply(pd.to_numeric)\n",
    "# get away the extreme in salary\n",
    "dataCluster = dataCluster[dataCluster['WAGE_RATE_OF_PAY_FROM']<200000]\n",
    "# use index for axis numbering & get away the wrong number\n",
    "dataCluster = dataCluster.sort_values('NAICS_CODE').reset_index(drop=True).loc[3:]\n",
    "# create sorted_index (repetition means the same)\n",
    "i, naics, lastrow = 0, [], dataCluster['NAICS_CODE'].iloc[0]\n",
    "for row in dataCluster['NAICS_CODE']:\n",
    "    if row != lastrow:\n",
    "        i += 1\n",
    "        naics.append(i)\n",
    "    else:\n",
    "        naics.append(i)\n",
    "    lastrow = row\n",
    "dataCluster['naics'] = pd.Series(naics).values\n",
    "dataCluster = dataCluster.sort_values('SOC_CODE').reset_index(drop=True).loc[2:]\n",
    "i, soc, lastrow = 0, [], dataCluster['SOC_CODE'].iloc[0]\n",
    "for row in dataCluster['SOC_CODE']:\n",
    "    if row != lastrow:\n",
    "        soc.append(i)\n",
    "        i += 1\n",
    "    else:\n",
    "        soc.append(i)\n",
    "    lastrow = row\n",
    "dataCluster['soc'] = pd.Series(soc).values\n",
    "myCluster = dataCluster[['WAGE_RATE_OF_PAY_FROM','naics','soc','WORKSITE_NUM', 'SOC_CODE']]\n",
    "# get the wage in unit thousand, for least-square cluster scaling issue\n",
    "myCluster['WAGE_RATE_OF_PAY_FROM'] = dataCluster['WAGE_RATE_OF_PAY_FROM']/1000"
   ]
  },
  {
   "cell_type": "code",
   "execution_count": null,
   "metadata": {
    "collapsed": true
   },
   "outputs": [],
   "source": [
    "# get data for each of the states\n",
    "myClusterCA = myCluster[myCluster['WORKSITE_NUM']==1][['WAGE_RATE_OF_PAY_FROM','naics','soc','SOC_CODE']]\n",
    "myClusterNY = myCluster[myCluster['WORKSITE_NUM']==2][['WAGE_RATE_OF_PAY_FROM','naics','soc','SOC_CODE']]\n",
    "myClusterIL = myCluster[myCluster['WORKSITE_NUM']==3][['WAGE_RATE_OF_PAY_FROM','naics','soc','SOC_CODE']]"
   ]
  },
  {
   "cell_type": "code",
   "execution_count": null,
   "metadata": {
    "collapsed": true
   },
   "outputs": [],
   "source": [
    "# plot data for California\n",
    "ca = sns.pairplot(myClusterCA['WAGE_RATE_OF_PAY_FROM','naics','soc'])"
   ]
  },
  {
   "cell_type": "code",
   "execution_count": null,
   "metadata": {
    "collapsed": true
   },
   "outputs": [],
   "source": [
    "# plot data for New York\n",
    "ny = sns.pairplot(myClusterNY[['WAGE_RATE_OF_PAY_FROM','naics','soc']])"
   ]
  },
  {
   "cell_type": "code",
   "execution_count": null,
   "metadata": {
    "collapsed": true
   },
   "outputs": [],
   "source": [
    "# plot data for Illinois\n",
    "il = sns.pairplot(myClusterIL[['WAGE_RATE_OF_PAY_FROM','naics','soc']])"
   ]
  },
  {
   "cell_type": "code",
   "execution_count": null,
   "metadata": {
    "collapsed": true
   },
   "outputs": [],
   "source": [
    "# prepare values (use sampling) for clustering on wages and SOC for each of the three states\n",
    "dataCluster1 = myClusterCA.sample(frac=0.1)\n",
    "dataCluster2 = myClusterNY.sample(frac=0.3)\n",
    "dataCluster3 = myClusterIL.sample(frac=0.3)\n",
    "socwageCA = copy.deepcopy(dataCluster1[['soc','WAGE_RATE_OF_PAY_FROM']])\n",
    "socwageNY = copy.deepcopy(dataCluster2[['soc','WAGE_RATE_OF_PAY_FROM']])\n",
    "socwageIL = copy.deepcopy(dataCluster3[['soc','WAGE_RATE_OF_PAY_FROM']])\n",
    "socwageCA.columns=[['Position Type - CA','Yearly Wage - CA']]\n",
    "socwageNY.columns=[['Position Type - NY','Yearly Wage - NY']]\n",
    "socwageIL.columns=[['Position Type - IL','Yearly Wage - IL']]\n",
    "K = 3\n",
    "\n",
    "# Create Initial Guess\n",
    "muCA0 = [np.array((np.random.uniform(80, 110),\n",
    "                   np.random.uniform(socwageCA['Yearly Wage - CA'].min(),\n",
    "                                     socwageCA['Yearly Wage - CA'].max()))) for i in range(K)]\n",
    "muNY0 = [np.array((np.random.uniform(60, 120),\n",
    "                   np.random.uniform(socwageNY['Yearly Wage - NY'].min(),\n",
    "                                     socwageNY['Yearly Wage - NY'].max()))) for i in range(K)]\n",
    "muIL0 = [np.array((np.random.uniform(80, 110),\n",
    "                   np.random.uniform(socwageIL['Yearly Wage - IL'].min(),\n",
    "                                     socwageIL['Yearly Wage - IL'].max()))) for i in range(K)]\n",
    "\n",
    "socwageCA['Cluster'] = 0\n",
    "socwageCA = socwageCA.reset_index(drop=True)\n",
    "socwageNY['Cluster'] = 0\n",
    "socwageNY = socwageNY.reset_index(drop=True)\n",
    "socwageIL['Cluster'] = 0\n",
    "socwageIL = socwageIL.reset_index(drop=True)"
   ]
  },
  {
   "cell_type": "code",
   "execution_count": null,
   "metadata": {
    "collapsed": true
   },
   "outputs": [],
   "source": [
    "# Create clusters containing points closest in distance to each centroid (data for CA)\n",
    "# Run LS cluster...(Use shorter loops and low precision to save time)\n",
    "#### Run 30 minutes on OS-system i7 64bit machine ####\n",
    "diff, n = 1, 0\n",
    "while diff>.1 and n<5: \n",
    "    n += 1\n",
    "    for i in socwageCA.index:\n",
    "        p=np.array((socwageCA['Position Type - CA'].iloc[i],socwageCA['Yearly Wage - CA'].iloc[i]))\n",
    "        d=np.array([np.linalg.norm(p-muCA0[k]) for k in range(K)])\n",
    "        bestKindex=np.argmin(d)\n",
    "        socwageCA['Cluster'].iloc[i]=bestKindex\n",
    "    muCA1= [np.array((socwageCA[socwageCA.Cluster==k]['Position Type - CA'].mean(),\\\n",
    "            socwageCA[socwageCA.Cluster==k]['Yearly Wage - CA'].mean())) for k in range(K)]\n",
    "    diff=sum([np.linalg.norm(muCA1[k]-muCA0[k]) for k in range(K)])\n",
    "    muCA0 = muCA1\n",
    "# plot\n",
    "sns.pairplot(x_vars=['Position Type - CA'], y_vars=['Yearly Wage - CA'], data=socwageCA, hue=\"Cluster\", size=5)"
   ]
  },
  {
   "cell_type": "code",
   "execution_count": null,
   "metadata": {
    "collapsed": true
   },
   "outputs": [],
   "source": [
    "# Create clusters containing points closest in distance to each centroid (data for NY) \n",
    "# Run LS cluster...(Use shorter loops and low precision to save time)\n",
    "#### Run 30 minutes on OS-system i7 64bit machine ####\n",
    "diff, n = 1, 0\n",
    "while diff>.1 and n<5: \n",
    "    n += 1\n",
    "    for i in socwageNY.index:\n",
    "        p=np.array((socwageNY['Position Type - NY'].iloc[i],socwageNY['Yearly Wage - NY'].iloc[i]))\n",
    "        d=np.array([np.linalg.norm(p-muNY0[k]) for k in range(K)])\n",
    "        bestKindex=np.argmin(d)\n",
    "        socwageNY['Cluster'].iloc[i]=bestKindex\n",
    "    muNY1= [np.array((socwageNY[socwageNY.Cluster==k]['Position Type - NY'].mean(),\\\n",
    "            socwageNY[socwageNY.Cluster==k]['Yearly Wage - NY'].mean())) for k in range(K)]\n",
    "    diff=sum([np.linalg.norm(muNY1[k]-muNY0[k]) for k in range(K)])\n",
    "    muNY0 = muNY1\n",
    "\n",
    "# plot\n",
    "sns.pairplot(x_vars=['Position Type - NY'], y_vars=['Yearly Wage - NY'], data=socwageNY, hue=\"Cluster\", size=5)"
   ]
  },
  {
   "cell_type": "code",
   "execution_count": null,
   "metadata": {
    "collapsed": true
   },
   "outputs": [],
   "source": [
    "# Create clusters containing points closest in distance to each centroid (data for IL)\n",
    "# Run LS cluster...(Use shorter loops and low precision to save time)\n",
    "#### Run 30 minutes on OS-system i7 64bit machine ####\n",
    "diff, n = 1, 0\n",
    "while diff>.1 and n<5: \n",
    "    n += 1\n",
    "    for i in socwageIL.index:\n",
    "        p=np.array((socwageIL['Position Type - IL'].iloc[i],socwageIL['Yearly Wage - IL'].iloc[i]))\n",
    "        d=np.array([np.linalg.norm(p-muIL0[k]) for k in range(K)])\n",
    "        bestKindex=np.argmin(d)\n",
    "        socwageIL['Cluster'].iloc[i]=bestKindex\n",
    "    muIL1= [np.array((socwageIL[socwageIL.Cluster==k]['Position Type - IL'].mean(),\\\n",
    "            socwageIL[socwageIL.Cluster==k]['Yearly Wage - IL'].mean())) for k in range(K)]\n",
    "    diff=sum([np.linalg.norm(muIL1[k]-muIL0[k]) for k in range(K)])\n",
    "    muIL0 = muIL1\n",
    "\n",
    "# plot\n",
    "sns.pairplot(x_vars=['Position Type - IL'], y_vars=['Yearly Wage - IL'], data=socwageIL, hue=\"Cluster\", size=5)"
   ]
  },
  {
   "cell_type": "code",
   "execution_count": null,
   "metadata": {
    "collapsed": true
   },
   "outputs": [],
   "source": [
    "print \"Cluster Centers for California:\\n\", muCA1\n"
   ]
  },
  {
   "cell_type": "code",
   "execution_count": null,
   "metadata": {
    "collapsed": true
   },
   "outputs": [],
   "source": [
    "print \"Cluster Centers for New York:\\n\", muNY1"
   ]
  },
  {
   "cell_type": "code",
   "execution_count": null,
   "metadata": {
    "collapsed": true
   },
   "outputs": [],
   "source": [
    "print \"Cluster Centers for Illinois:\\n\", muIL1"
   ]
  },
  {
   "cell_type": "code",
   "execution_count": null,
   "metadata": {
    "collapsed": true
   },
   "outputs": [],
   "source": [
    "# record the SOC Code with explanation in dictionary\n",
    "jobMatch = {11:'Management Occupations', 13:'Business and Financial Operations Occupations',15:'Computer and Mathematical Occupations',\n",
    "           17:'Architecture and Engineering Occupations',19:'Life, Physical, and Social Science Occupations',21:'Community and Social Service Occupations',\n",
    "           23:'Legal Occupations',25:'Education, Training, and Library Occupations',27:'Arts, Design, Entertainment, Sports, and Media Occupations',\n",
    "           29:'Healthcare Practitioners and Technical Occupations',31:'Healthcare Support Occupations',33:'Protective Service Occupations',\n",
    "           35:'Food Preparation and Serving Related Occupations',37:'Building and Grounds Cleaning and Maintenance Occupations',\n",
    "           39:'Personal Care and Service Occupations',41:'Sales and Related Occupations',43:'Office and Administrative Support Occupations',\n",
    "           45:'Farming, Fishing, and Forestry Occupations',47:'Construction and Extraction Occupations',49:'Installation, Maintenance, and Repair Occupations',\n",
    "           51:'Production Occupations',53:'Transportation and Material Moving Occupations'}"
   ]
  },
  {
   "cell_type": "code",
   "execution_count": null,
   "metadata": {
    "collapsed": true
   },
   "outputs": [],
   "source": [
    "# Print out the three characteristic job for California\n",
    "ca1, ca2, ca3 = muCA1[0], muCA1[1], muCA1[2]\n",
    "capoint = []\n",
    "for i in [ca1, ca2, ca3]:\n",
    "     capoint.append((jobMatch[int(str(myClusterCA[myClusterCA['soc']-int(i[0])<=1]['SOC_CODE'].mode()[0])[:2])], str(i[1])+'k'))\n",
    "print capoint        "
   ]
  },
  {
   "cell_type": "code",
   "execution_count": null,
   "metadata": {
    "collapsed": true
   },
   "outputs": [],
   "source": [
    "# Print out the three characteristic job for New York State\n",
    "ny1, ny2, ny3 = muNY1[0], muNY1[1], muNY1[2]\n",
    "nypoint = []\n",
    "for i in [ny1, ny2, ny3]:\n",
    "    nypoint.append((jobMatch[int(str(myClusterNY[myClusterNY['soc']-int(i[0])<=1]['SOC_CODE'].mode()[0])[:2])], str(i[1])+'k'))\n",
    "print nypoint    "
   ]
  },
  {
   "cell_type": "code",
   "execution_count": null,
   "metadata": {
    "collapsed": true
   },
   "outputs": [],
   "source": [
    "# Print out the three characteristic job for Illinois State\n",
    "il1, il2, il3 = muIL1[0], muIL1[1], muIL1[2]\n",
    "ilpoint = []\n",
    "for i in [il1, il2, il3]:\n",
    "    ilpoint.append((jobMatch[int(str(myClusterIL[myClusterIL['soc']-int(i[0])<=1]['SOC_CODE'].mode()[0])[:2])], str(i[1])+'k'))\n",
    "print ilpoint   "
   ]
  }
 ],
 "metadata": {
  "kernelspec": {
   "display_name": "Python 2",
   "language": "python",
   "name": "python2"
  },
  "language_info": {
   "codemirror_mode": {
    "name": "ipython",
    "version": 2
   },
   "file_extension": ".py",
   "mimetype": "text/x-python",
   "name": "python",
   "nbconvert_exporter": "python",
   "pygments_lexer": "ipython2",
   "version": "2.7.13"
  }
 },
 "nbformat": 4,
 "nbformat_minor": 2
}
